{
 "cells": [
  {
   "cell_type": "markdown",
   "id": "3aaa3ec8-5ec9-4e80-87f4-0dfa723c8d0a",
   "metadata": {},
   "source": [
    "# Assessment 11 - Python 4 and DAV 2/3"
   ]
  },
  {
   "cell_type": "markdown",
   "id": "ffb39b9c-fe3e-48b8-ab57-9c3108bf159e",
   "metadata": {},
   "source": [
    "The objective of this assessment is to evaluate your understanding of Python programming for data analysis using external libraries such as pandas, matplotlib, seaborn, and numpy as well as working with python environments and modules. You will be working with a dataset containing information about stars, and you will be required to perform various data analysis tasks for cleaning and preparation and to gain insights into the characteristics and relationships between different types of stars.\n",
    "\n",
    "### Dataset Description\n",
    "\n",
    "The dataset contains the following columns:\n",
    "\n",
    "- **Temperature (K)** = represents the surface temperature of the star measured in Kelvin (K). \n",
    "- **Luminosity(L/Lo)** = is a measure of the total amount of energy emitted by a star per unit time. In this column, luminosity is expressed relative to the Sun’s luminosity (Lo). A star with a luminosity of 10 Lo is ten times as bright as the Sun.\n",
    "- **Radius(R/Ro)** = This measures the star’s size relative to the radius of the Sun (Ro). For instance, a star with a radius of 0.5 Ro is half the size of the Sun.\n",
    "- **Apparent Magnitude(m)** = is a measure of the brightness of a star as seen from Earth. The scale is logarithmic and inversely proportional, meaning that lower values correspond to brighter stars, and higher values to dimmer ones.\n",
    "- **Absolute magnitude(Mv)** = measures the intrinsic brightness of a celestial object. It is the hypothetical apparent magnitude (brightness from Earth) of the object if it were placed 10 parsecs (about 32.6 light years) away from Earth. This is used to compare the true brightness of stars regardless of their distance from Earth.\n",
    "- **Star color** (white, Red, Blue, Yellow, yellow-orange, etc.) = The color of a star is directly linked to its surface temperature. Cooler stars appear red, while hotter stars appear blue. Common colors listed in astronomy include white, red, blue, yellow, and yellow-orange. These colors can provide immediate visual clues about a star’s temperature.\n",
    "- **Spectral Class** (O, B, A, F, G, K, M) = This classification is based on the absorption lines in a star's spectrum, which correspond to surface temperature. The main spectral classes from hottest to coolest are O, B, A, F, G, K, M. Each class can also have subcategories indicating temperature and other spectral features.\n",
    "- **Star type** (Red Dwarf, Brown Dwarf, White Dwarf, Main Sequence, SuperGiants, HyperGiants) = This column categorizes stars based on their evolutionary stage and other physical characteristics:\n",
    "   -  *Red Dwarf*: Small, cool, long-lived stars on the main sequence.\n",
    "    - *Brown Dwarf*: 'Failed' stars that do not have enough mass to sustain nuclear fusion.\n",
    "    - *White Dwarf*: Very hot, small, dense remnants of stars that have exhausted their nuclear fuel.\n",
    "    - *Main Sequence*: Stars that are currently fusing hydrogen into helium in their cores, including our Sun.\n",
    "    - *SuperGiants*: Extremely large and luminous stars, much larger than the Sun, at a later stage of their evolution.\n",
    "    - *HyperGiants*: Rare, extremely massive and luminous stars, exhibiting high rates of mass loss."
   ]
  },
  {
   "cell_type": "markdown",
   "id": "38fd24f9-1e10-4263-9e5e-c04f7eee528b",
   "metadata": {},
   "source": [
    "## 1. Create your environment:\n",
    "- Open your terminal, check your conda version and update it\n",
    "- Create your environment named 'star_env' and install Python (version 3.7)\n",
    "- Activate your environment 'star_env' and install numpy, matplotlib, seaborn and pandas to the environment.\n",
    "- Check the packages that are installed in 'star_env'\n",
    "\n",
    "**Take a screenshot of your terminal with all the commands shown**"
   ]
  },
  {
   "cell_type": "markdown",
   "id": "55ebe1a6-36dc-4912-a048-e78d40f28cf0",
   "metadata": {},
   "source": [
    "## 2. Data Loading and Exploration\n",
    "Load the dataset ***star_dataset.csv*** into a pandas DataFrame, display the first rows of your dataframe and diaplay it's shape."
   ]
  },
  {
   "cell_type": "code",
   "execution_count": 1,
   "id": "bae366ad-71fb-49a7-a445-91757443036a",
   "metadata": {},
   "outputs": [],
   "source": [
    "#Your code goes here"
   ]
  },
  {
   "cell_type": "markdown",
   "id": "b6e48197-a7d5-46eb-855c-3533154b4b3d",
   "metadata": {},
   "source": [
    "## 3. Data Cleaning and Preparation\n",
    "Remove rows that contain missing values:\n",
    "\n",
    "***Hint***: you can use a new function called *dropna()*"
   ]
  },
  {
   "cell_type": "code",
   "execution_count": 2,
   "id": "ca0c6c3f-37a6-44fe-a5a5-548f6019bd76",
   "metadata": {
    "tags": []
   },
   "outputs": [],
   "source": [
    "#Your code goes here"
   ]
  },
  {
   "cell_type": "markdown",
   "id": "76f8cb08-5013-400a-910e-ec29a2f7fbbb",
   "metadata": {},
   "source": [
    "Identify and remove duplicate rows from the dataframe and display the new ***shape*** of your new dataframe:"
   ]
  },
  {
   "cell_type": "code",
   "execution_count": 3,
   "id": "282d1c7a-d75c-4c3c-a39f-8e985f4c25c4",
   "metadata": {},
   "outputs": [],
   "source": [
    "#Your code goes here"
   ]
  },
  {
   "cell_type": "markdown",
   "id": "3ad00e4c-1f1c-42fe-b21c-48c929e34d4b",
   "metadata": {
    "tags": []
   },
   "source": [
    "## 4. Data Reshaping \n",
    "Complete the code below to perfom Pivoting (Long to Wide Format) data reshaping of the dataframe and display the result:"
   ]
  },
  {
   "cell_type": "code",
   "execution_count": null,
   "id": "168d2b1e-9fda-4c3c-903e-5b5fafad6930",
   "metadata": {},
   "outputs": [],
   "source": [
    "data = {\n",
    "    'Star Name': [\n",
    "        'Sirius', 'Alpha Centauri', 'Proxima Centauri', 'Betelgeuse', 'Vega', 'Aldebaran', 'Antares',\n",
    "        'Sirius', 'Alpha Centauri', 'Proxima Centauri', 'Betelgeuse', 'Vega', 'Aldebaran', 'Antares'\n",
    "    ],\n",
    "    'Attribute': [\n",
    "        'Distance (light years)', 'Distance (light years)', 'Distance (light years)', 'Distance (light years)', \n",
    "        'Distance (light years)', 'Distance (light years)', 'Distance (light years)',\n",
    "        'Luminosity (L/Lo)', 'Luminosity (L/Lo)', 'Luminosity (L/Lo)', 'Luminosity (L/Lo)', \n",
    "        'Luminosity (L/Lo)', 'Luminosity (L/Lo)', 'Luminosity (L/Lo)'\n",
    "    ],\n",
    "    'Value': [\n",
    "        8.6, 4.37, 4.24, 642.5, 25, 65.1, 550,\n",
    "        25.4, 1.519, 0.00156, 100000, 50, 400, 13000\n",
    "    ]\n",
    "}\n",
    "# Create the DataFrame from the dictionary\n",
    "star_df = pd.DataFrame(data)\n",
    "print(\"Original Dataframe:\\n\", star_df)\n",
    "\n",
    "# Pivoting the DataFrame\n",
    "#Your code goes here\n",
    "\n",
    "# Display the pivoted DataFrame\n",
    "#Your code goes here\n"
   ]
  },
  {
   "cell_type": "markdown",
   "id": "64c8fb76-afe2-4f29-a310-6ad0e9ca2a30",
   "metadata": {},
   "source": [
    "# 5. Modules and Calculations\n",
    "\n",
    "Download the module named `star_calculations_module.py` and complete the functions for the following calculations:\n",
    "\n",
    "**distance_from_earth_parsecs(Mv,m):**\n",
    "   - Calculate the distance ***(in parsecs)*** between each star and Earth based on their Absolute and Apparent Magnitude using the formula:\n",
    "     \n",
    "     **distance_parsecs = 10 ^ ((m - Mv + 5)/5)**\n",
    "\n",
    "     Where:\n",
    "     - ***m*** is the apparent magnitude\n",
    "     - ***Mv*** is the absolute magnitude\n",
    "**parsecs_to_lightYears(distance_parsec)**:\n",
    "  - Convert the distance calculated in the previous function from ***parsecs*** units to ***light years*** units\n",
    "\n",
    "    Where:\n",
    "    \n",
    "    ***1 Parsec = 3.2616 light years***\n",
    "\n",
    "This functions will be implemented in the `star_calculations_module.py` module. Implement these calculations using **Python** and **NumPy**.\n"
   ]
  },
  {
   "cell_type": "markdown",
   "id": "a6524e5f-f5f1-4be7-872b-b19b41fa50ee",
   "metadata": {
    "tags": []
   },
   "source": [
    "Once the module is completed, complete the following instructions:\n",
    "- Import the `star_calculations_module.py` module into your python environment. (You may have to restart the kernel for it to work)\n",
    "- Create a new column called 'Distance (Light Years)' in your DataFrame and calculate the distance of each star from earth in parsecs units and convert it to light years units using the module's functions.\n",
    "\n",
    "**Note:** Add the following line of code to reload the module to ensure any recent changes are recognized after importing (change 'module_name' to the name of your module):\n",
    "\n",
    "*import importlib*\n",
    "\n",
    "*# Reload the module to ensure any recent changes are recognized*\n",
    "\n",
    "*importlib.reload(module_name)*\n",
    "    "
   ]
  },
  {
   "cell_type": "code",
   "execution_count": 5,
   "id": "45190f63-eb5a-4ade-87ff-06102ce9204a",
   "metadata": {},
   "outputs": [],
   "source": [
    "#Your code goes here"
   ]
  },
  {
   "cell_type": "markdown",
   "id": "8ba07337-e852-49eb-9c7a-5696f30436bd",
   "metadata": {},
   "source": [
    "Print and save the dataframe showing the new columns:"
   ]
  },
  {
   "cell_type": "code",
   "execution_count": 6,
   "id": "b782efb6-b642-4794-9bd3-d51e08836bb9",
   "metadata": {
    "scrolled": true
   },
   "outputs": [],
   "source": [
    "#Your code goes here"
   ]
  },
  {
   "cell_type": "markdown",
   "id": "11b6f0de-ea3e-4240-ae43-441e3c91194d",
   "metadata": {},
   "source": [
    "## 6. Data Visualization\n",
    "Create a new folder called 'Figures' that will be used to store all the graphs created and saved in this exercise. \n",
    "For each graph you will include descriptive titles, axis names and legends names(if applicable).\n",
    "\n",
    "1. Create and save a bar chart for 'Spectral Class'"
   ]
  },
  {
   "cell_type": "code",
   "execution_count": 7,
   "id": "0967adf1-c1c1-44b5-9c99-acbc7eb396dc",
   "metadata": {},
   "outputs": [],
   "source": [
    "#Your code goes here"
   ]
  },
  {
   "cell_type": "markdown",
   "id": "3efa04f7-06a5-43fd-809e-ff95d33af407",
   "metadata": {},
   "source": [
    "2. Create and save a pie chart for 'Star type'"
   ]
  },
  {
   "cell_type": "code",
   "execution_count": 8,
   "id": "a8d61e65-501a-405c-939b-683e7723db28",
   "metadata": {
    "tags": []
   },
   "outputs": [],
   "source": [
    "#Your code goes here"
   ]
  },
  {
   "cell_type": "markdown",
   "id": "c0f5240c-5dd7-4263-bf69-1f9e3f4020fa",
   "metadata": {},
   "source": [
    "3. Create and save a box plot using seaborn to provide a summary of the distribution and spread of data for Spectral Class vs Temperature (K).\n",
    "\n",
    "Provide a short analysis of the box plot, noting if any outliers are visible. Explain the meaning of the varying sizes and positions of the boxes. Which Spectral Class have higher/lower temperatures?"
   ]
  },
  {
   "cell_type": "code",
   "execution_count": 9,
   "id": "533987f8-1bf4-4824-a82e-da8543bf17ab",
   "metadata": {
    "tags": []
   },
   "outputs": [],
   "source": [
    "#Your code goes here"
   ]
  },
  {
   "cell_type": "markdown",
   "id": "317e9f8d-1227-4e5a-ba1d-7c382204c1d5",
   "metadata": {},
   "source": [
    "**[Your analysis goes here]**"
   ]
  },
  {
   "cell_type": "markdown",
   "id": "ff80305c-c217-4eb4-a702-b07916d49806",
   "metadata": {},
   "source": [
    "4. Create a bar plot showing the median distance of each star type from Earth.\n",
    "\n",
    "Write a short analysis explaining which types of stars are closest/farthest from earth.\n"
   ]
  },
  {
   "cell_type": "code",
   "execution_count": 10,
   "id": "7dbbb917-0eda-4c89-8ad2-403ef79457cb",
   "metadata": {
    "tags": []
   },
   "outputs": [],
   "source": [
    "#Your code goes here"
   ]
  },
  {
   "cell_type": "markdown",
   "id": "021a457d-9cb4-4e4f-9193-5b515a262e6a",
   "metadata": {
    "tags": []
   },
   "source": [
    "**[Your analysis goes here]**"
   ]
  },
  {
   "cell_type": "markdown",
   "id": "ba7720c5-bd43-489a-8577-81c3f18a03fd",
   "metadata": {},
   "source": [
    "5. **(BONUS FOR FUN!)** Create an ***interactive*** scatter plot using a new library called *plotly.express* that compares the Absolute magnitude(Mv) and Apparent Magnitude (m) grouped by Star type. Complete the code provided below:\n",
    "\n",
    "   Where\n",
    "   - x = Absolute magnitude(Mv)\n",
    "   - y = Apparent Magnitude (m)\n",
    "   - title = *[Write a descriptive title]*\n",
    "   - color = Star type\n",
    "\n",
    "***Drag your mouse on top of the graph and use the options above it to explore all the awesome things you can see and do with an interactive graph!*** \n",
    "\n",
    "*Tip: Try drawing a box inside the graph with your mouse*\n",
    "\n",
    "Write a brief analysis explaining the comparison between Absolute magnitude(Mv) and Apparent Magnitude (m), which Star types have lower/highest magnitudes values and what does this mean."
   ]
  },
  {
   "cell_type": "code",
   "execution_count": null,
   "id": "ae9e01f3-5c65-489a-b6bf-4da7d2cd6213",
   "metadata": {},
   "outputs": [],
   "source": [
    "import plotly.express as px\n",
    "\n",
    "# Scatter plot\n",
    "fig = px.scatter(df, x='YOUR CODE GOES HERE', y='YOUR CODE GOES HERE', \n",
    "                 title='YOUR CODE GOES HERE', color = 'YOUR CODE GOES HERE')\n",
    "fig.show()\n"
   ]
  },
  {
   "cell_type": "markdown",
   "id": "89f52af7-3ec7-45e0-8b8f-42db47e24b10",
   "metadata": {},
   "source": [
    "**[WRITE YOUR ANALYSIS HERE]**"
   ]
  }
 ],
 "metadata": {
  "kernelspec": {
   "display_name": "Python 3 (ipykernel)",
   "language": "python",
   "name": "python3"
  },
  "language_info": {
   "codemirror_mode": {
    "name": "ipython",
    "version": 3
   },
   "file_extension": ".py",
   "mimetype": "text/x-python",
   "name": "python",
   "nbconvert_exporter": "python",
   "pygments_lexer": "ipython3",
   "version": "3.11.5"
  }
 },
 "nbformat": 4,
 "nbformat_minor": 5
}
