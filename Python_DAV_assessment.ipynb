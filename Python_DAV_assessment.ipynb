{
 "cells": [
  {
   "cell_type": "markdown",
   "id": "3aaa3ec8-5ec9-4e80-87f4-0dfa723c8d0a",
   "metadata": {},
   "source": [
    "# Assessment 11 - Python 4 and DAV 2/3"
   ]
  },
  {
   "cell_type": "markdown",
   "id": "ffb39b9c-fe3e-48b8-ab57-9c3108bf159e",
   "metadata": {},
   "source": [
    "The objective of this assessment is to evaluate your understanding of Python programming for data analysis using external libraries such as pandas, matplotlib, seaborn, and numpy as well as working with python environments and modules. You will be working with a dataset containing information about stars, and you will be required to perform various data analysis tasks for cleaning and preparation and to gain insights into the characteristics and relationships between different types of stars.\n",
    "\n",
    "### Dataset Description\n",
    "\n",
    "The dataset contains the following columns:\n",
    "\n",
    "- **Temperature (K)** = represents the surface temperature of the star measured in Kelvin (K). \n",
    "- **Luminosity(L/Lo)** = is a measure of the total amount of energy emitted by a star per unit time. In this column, luminosity is expressed relative to the Sun’s luminosity (Lo). A star with a luminosity of 10 Lo is ten times as bright as the Sun.\n",
    "- **Radius(R/Ro)** = This measures the star’s size relative to the radius of the Sun (Ro). For instance, a star with a radius of 0.5 Ro is half the size of the Sun.\n",
    "- **Apparent Magnitude(m)** = is a measure of the brightness of a star as seen from Earth. The scale is logarithmic and inversely proportional, meaning that lower values correspond to brighter stars, and higher values to dimmer ones.\n",
    "- **Absolute magnitude(Mv)** = measures the intrinsic brightness of a celestial object. It is the hypothetical apparent magnitude (brightness from Earth) of the object if it were placed 10 parsecs (about 32.6 light years) away from Earth. This is used to compare the true brightness of stars regardless of their distance from Earth.\n",
    "- **Star color** (white, Red, Blue, Yellow, yellow-orange, etc.) = The color of a star is directly linked to its surface temperature. Cooler stars appear red, while hotter stars appear blue. Common colors listed in astronomy include white, red, blue, yellow, and yellow-orange. These colors can provide immediate visual clues about a star’s temperature.\n",
    "- **Spectral Class** (O, B, A, F, G, K, M) = This classification is based on the absorption lines in a star's spectrum, which correspond to surface temperature. The main spectral classes from hottest to coolest are O, B, A, F, G, K, M. Each class can also have subcategories indicating temperature and other spectral features.\n",
    "- **Star type** (Red Dwarf, Brown Dwarf, White Dwarf, Main Sequence, SuperGiants, HyperGiants) = This column categorizes stars based on their evolutionary stage and other physical characteristics:\n",
    "   -  *Red Dwarf*: Small, cool, long-lived stars on the main sequence.\n",
    "    - *Brown Dwarf*: 'Failed' stars that do not have enough mass to sustain nuclear fusion.\n",
    "    - *White Dwarf*: Very hot, small, dense remnants of stars that have exhausted their nuclear fuel.\n",
    "    - *Main Sequence*: Stars that are currently fusing hydrogen into helium in their cores, including our Sun.\n",
    "    - *SuperGiants*: Extremely large and luminous stars, much larger than the Sun, at a later stage of their evolution.\n",
    "    - *HyperGiants*: Rare, extremely massive and luminous stars, exhibiting high rates of mass loss."
   ]
  },
  {
   "cell_type": "markdown",
   "id": "38fd24f9-1e10-4263-9e5e-c04f7eee528b",
   "metadata": {},
   "source": [
    "## 1. Create your environment:\n",
    "- Open your terminal, check your conda version and update it\n",
    "- Create your environment named 'star_env' and install Python (version 3.7)\n",
    "- Activate your environment 'star_env' and install numpy, matplotlib, seaborn and pandas to the environment.\n",
    "- Check the packages that are installed in 'star_env'\n",
    "\n",
    "**Take a screenshot of your terminal with all the commands shown**"
   ]
  },
  {
   "cell_type": "markdown",
   "id": "55ebe1a6-36dc-4912-a048-e78d40f28cf0",
   "metadata": {},
   "source": [
    "## 2. Data Loading and Exploration\n",
    "Load the dataset ***star_dataset.csv*** into a pandas DataFrame, display the first rows of your dataframe and diaplay it's shape."
   ]
  },
  {
   "cell_type": "code",
   "execution_count": 1,
   "id": "bae366ad-71fb-49a7-a445-91757443036a",
   "metadata": {},
   "outputs": [],
   "source": [
    "#Your code goes here"
   ]
  },
  {
   "cell_type": "markdown",
   "id": "b6e48197-a7d5-46eb-855c-3533154b4b3d",
   "metadata": {},
   "source": [
    "## 3. Data Cleaning and Preparation\n",
    "Remove rows that contain missing values:\n",
    "\n",
    "***Hint***: you can use a new function called *dropna()*"
   ]
  },
  {
   "cell_type": "code",
   "execution_count": 2,
   "id": "ca0c6c3f-37a6-44fe-a5a5-548f6019bd76",
   "metadata": {
    "tags": []
   },
   "outputs": [],
   "source": [
    "#Your code goes here"
   ]
  },
  {
   "cell_type": "markdown",
   "id": "76f8cb08-5013-400a-910e-ec29a2f7fbbb",
   "metadata": {},
   "source": [
    "Identify and remove duplicate rows from the dataframe and display the new ***shape*** of your new dataframe:"
   ]
  },
  {
   "cell_type": "code",
   "execution_count": 3,
   "id": "282d1c7a-d75c-4c3c-a39f-8e985f4c25c4",
   "metadata": {},
   "outputs": [],
   "source": [
    "#Your code goes here"
   ]
  },
  {
   "cell_type": "markdown",
   "id": "3ad00e4c-1f1c-42fe-b21c-48c929e34d4b",
   "metadata": {
    "tags": []
   },
   "source": [
    "## 4. Data Reshaping \n",
    "Complete the code below to perfom Pivoting (Long to Wide Format) data reshaping of the dataframe and display the result:"
   ]
  },
  {
   "cell_type": "code",
   "execution_count": 4,
   "id": "168d2b1e-9fda-4c3c-903e-5b5fafad6930",
   "metadata": {},
   "outputs": [
    {
     "ename": "NameError",
     "evalue": "name 'pd' is not defined",
     "output_type": "error",
     "traceback": [
      "\u001b[0;31m---------------------------------------------------------------------------\u001b[0m",
      "\u001b[0;31mNameError\u001b[0m                                 Traceback (most recent call last)",
      "Cell \u001b[0;32mIn[4], line 18\u001b[0m\n\u001b[1;32m      1\u001b[0m data \u001b[38;5;241m=\u001b[39m {\n\u001b[1;32m      2\u001b[0m     \u001b[38;5;124m'\u001b[39m\u001b[38;5;124mStar Name\u001b[39m\u001b[38;5;124m'\u001b[39m: [\n\u001b[1;32m      3\u001b[0m         \u001b[38;5;124m'\u001b[39m\u001b[38;5;124mSirius\u001b[39m\u001b[38;5;124m'\u001b[39m, \u001b[38;5;124m'\u001b[39m\u001b[38;5;124mAlpha Centauri\u001b[39m\u001b[38;5;124m'\u001b[39m, \u001b[38;5;124m'\u001b[39m\u001b[38;5;124mProxima Centauri\u001b[39m\u001b[38;5;124m'\u001b[39m, \u001b[38;5;124m'\u001b[39m\u001b[38;5;124mBetelgeuse\u001b[39m\u001b[38;5;124m'\u001b[39m, \u001b[38;5;124m'\u001b[39m\u001b[38;5;124mVega\u001b[39m\u001b[38;5;124m'\u001b[39m, \u001b[38;5;124m'\u001b[39m\u001b[38;5;124mAldebaran\u001b[39m\u001b[38;5;124m'\u001b[39m, \u001b[38;5;124m'\u001b[39m\u001b[38;5;124mAntares\u001b[39m\u001b[38;5;124m'\u001b[39m,\n\u001b[0;32m   (...)\u001b[0m\n\u001b[1;32m     15\u001b[0m     ]\n\u001b[1;32m     16\u001b[0m }\n\u001b[1;32m     17\u001b[0m \u001b[38;5;66;03m# Create the DataFrame from the dictionary\u001b[39;00m\n\u001b[0;32m---> 18\u001b[0m star_df \u001b[38;5;241m=\u001b[39m pd\u001b[38;5;241m.\u001b[39mDataFrame(data)\n\u001b[1;32m     19\u001b[0m \u001b[38;5;28mprint\u001b[39m(\u001b[38;5;124m\"\u001b[39m\u001b[38;5;124mOriginal Dataframe:\u001b[39m\u001b[38;5;130;01m\\n\u001b[39;00m\u001b[38;5;124m\"\u001b[39m, star_df)\n",
      "\u001b[0;31mNameError\u001b[0m: name 'pd' is not defined"
     ]
    }
   ],
   "source": [
    "data = {\n",
    "    'Star Name': [\n",
    "        'Sirius', 'Alpha Centauri', 'Proxima Centauri', 'Betelgeuse', 'Vega', 'Aldebaran', 'Antares',\n",
    "        'Sirius', 'Alpha Centauri', 'Proxima Centauri', 'Betelgeuse', 'Vega', 'Aldebaran', 'Antares'\n",
    "    ],\n",
    "    'Attribute': [\n",
    "        'Distance (light years)', 'Distance (light years)', 'Distance (light years)', 'Distance (light years)', \n",
    "        'Distance (light years)', 'Distance (light years)', 'Distance (light years)',\n",
    "        'Luminosity (L/Lo)', 'Luminosity (L/Lo)', 'Luminosity (L/Lo)', 'Luminosity (L/Lo)', \n",
    "        'Luminosity (L/Lo)', 'Luminosity (L/Lo)', 'Luminosity (L/Lo)'\n",
    "    ],\n",
    "    'Value': [\n",
    "        8.6, 4.37, 4.24, 642.5, 25, 65.1, 550,\n",
    "        25.4, 1.519, 0.00156, 100000, 50, 400, 13000\n",
    "    ]\n",
    "}\n",
    "# Create the DataFrame from the dictionary\n",
    "star_df = pd.DataFrame(data)\n",
    "print(\"Original Dataframe:\\n\", star_df)\n",
    "\n",
    "# Pivoting the DataFrame\n",
    "#Your code goes here\n",
    "\n",
    "# Display the pivoted DataFrame\n",
    "#Your code goes here\n"
   ]
  },
  {
   "cell_type": "markdown",
   "id": "64c8fb76-afe2-4f29-a310-6ad0e9ca2a30",
   "metadata": {},
   "source": [
    "# 5. Modules and Calculations\n",
    "\n",
    "Download the module named `star_calculations_module.py` and complete the functions for the following calculations:\n",
    "\n",
    "**distance_from_earth_parsecs(Mv,m):**\n",
    "   - Calculate the distance ***(in parsecs)*** between each star and Earth based on their Absolute and Apparent Magnitude using the formula:\n",
    "     \n",
    "     **distance_parsecs = 10 ^ ((m - Mv + 5)/5)**\n",
    "\n",
    "     Where:\n",
    "     - ***m*** is the apparent magnitude\n",
    "     - ***Mv*** is the absolute magnitude\n",
    "**parsecs_to_lightYears(distance_parsec)**:\n",
    "  - Convert the distance calculated in the previous function from ***parsecs*** units to ***light years*** units\n",
    "\n",
    "    Where:\n",
    "    \n",
    "    ***1 Parsec = 3.2616 light years***\n",
    "\n",
    "This functions will be implemented in the `star_calculations_module.py` module. Implement these calculations using **Python** and **NumPy**.\n"
   ]
  },
  {
   "cell_type": "markdown",
   "id": "a6524e5f-f5f1-4be7-872b-b19b41fa50ee",
   "metadata": {
    "tags": []
   },
   "source": [
    "Once the module is completed, complete the following instructions:\n",
    "- Import the `star_calculations_module.py` module into your python environment. (You may have to restart the kernel for it to work)\n",
    "- Create a new column called 'Distance (Light Years)' in your DataFrame and calculate the distance of each star from earth in parsecs units and convert it to light years units using the module's functions.\n",
    "\n",
    "**Note:** Add the following line of code to reload the module to ensure any recent changes are recognized after importing (change 'module_name' to the name of your module):\n",
    "\n",
    "*import importlib*\n",
    "\n",
    "*# Reload the module to ensure any recent changes are recognized*\n",
    "\n",
    "*importlib.reload(module_name)*\n",
    "    "
   ]
  },
  {
   "cell_type": "code",
   "execution_count": 5,
   "id": "45190f63-eb5a-4ade-87ff-06102ce9204a",
   "metadata": {},
   "outputs": [],
   "source": [
    "#Your code goes here"
   ]
  },
  {
   "cell_type": "markdown",
   "id": "8ba07337-e852-49eb-9c7a-5696f30436bd",
   "metadata": {},
   "source": [
    "Print the dataframe showing the new columns:"
   ]
  },
  {
   "cell_type": "code",
   "execution_count": 6,
   "id": "b782efb6-b642-4794-9bd3-d51e08836bb9",
   "metadata": {
    "scrolled": true
   },
   "outputs": [],
   "source": [
    "#Your code goes here"
   ]
  },
  {
   "cell_type": "markdown",
   "id": "11b6f0de-ea3e-4240-ae43-441e3c91194d",
   "metadata": {},
   "source": [
    "## 6. Data Visualization\n",
    "Create a new folder called 'Figures' that will be used to store all the graphs created and saved in this exercise. \n",
    "For each graph you will include descriptive titles, axis names and legends names(if applicable).\n",
    "\n",
    "1. Create and save a bar chart for 'Spectral Class'"
   ]
  },
  {
   "cell_type": "code",
   "execution_count": 7,
   "id": "0967adf1-c1c1-44b5-9c99-acbc7eb396dc",
   "metadata": {},
   "outputs": [],
   "source": [
    "#Your code goes here"
   ]
  },
  {
   "cell_type": "markdown",
   "id": "3efa04f7-06a5-43fd-809e-ff95d33af407",
   "metadata": {},
   "source": [
    "2. Create and save a pie chart for 'Star type'"
   ]
  },
  {
   "cell_type": "code",
   "execution_count": 8,
   "id": "a8d61e65-501a-405c-939b-683e7723db28",
   "metadata": {
    "tags": []
   },
   "outputs": [],
   "source": [
    "#Your code goes here"
   ]
  },
  {
   "cell_type": "markdown",
   "id": "c0f5240c-5dd7-4263-bf69-1f9e3f4020fa",
   "metadata": {},
   "source": [
    "3. Create and save a box plot using seaborn to provide a summary of the distribution and spread of data for Spectral Class vs Temperature (K).\n",
    "\n",
    "Provide a short analysis of the box plot, noting if any outliers are visible. Explain the meaning of the varying sizes and positions of the boxes. Which Spectral Class have higher/lower temperatures?"
   ]
  },
  {
   "cell_type": "code",
   "execution_count": 9,
   "id": "533987f8-1bf4-4824-a82e-da8543bf17ab",
   "metadata": {
    "tags": []
   },
   "outputs": [],
   "source": [
    "#Your code goes here"
   ]
  },
  {
   "cell_type": "markdown",
   "id": "317e9f8d-1227-4e5a-ba1d-7c382204c1d5",
   "metadata": {},
   "source": [
    "**[Your analysis goes here]**"
   ]
  },
  {
   "cell_type": "markdown",
   "id": "ff80305c-c217-4eb4-a702-b07916d49806",
   "metadata": {},
   "source": [
    "4. Create a bar plot showing the median distance of each star type from Earth.\n",
    "\n",
    "Write a short analysis explaining which types of stars are closest/farthest from earth.\n"
   ]
  },
  {
   "cell_type": "code",
   "execution_count": 10,
   "id": "7dbbb917-0eda-4c89-8ad2-403ef79457cb",
   "metadata": {
    "tags": []
   },
   "outputs": [],
   "source": [
    "#Your code goes here"
   ]
  },
  {
   "cell_type": "markdown",
   "id": "021a457d-9cb4-4e4f-9193-5b515a262e6a",
   "metadata": {
    "tags": []
   },
   "source": [
    "**[Your analysis goes here]**"
   ]
  },
  {
   "cell_type": "markdown",
   "id": "ba7720c5-bd43-489a-8577-81c3f18a03fd",
   "metadata": {},
   "source": [
    "5. **(BONUS FOR FUN!)** Create an ***interactive*** scatter plot using a new library called *plotly.express* that compares the Absolute magnitude(Mv) and Apparent Magnitude (m) grouped by Star type. Complete the code provided below:\n",
    "\n",
    "   Where\n",
    "   - x = Absolute magnitude(Mv)\n",
    "   - y = Apparent Magnitude (m)\n",
    "   - title = *[Write a descriptive title]*\n",
    "   - color = Star type\n",
    "\n",
    "***Drag your mouse on top of the graph and use the options above it to explore all the awesome things you can see and do with an interactive graph!*** \n",
    "\n",
    "*Tip: Try drawing a box inside the graph with your mouse*\n",
    "\n",
    "Write a brief analysis explaining the comparison between Absolute magnitude(Mv) and Apparent Magnitude (m), which Star types have lower/highest magnitudes values and what does this mean."
   ]
  },
  {
   "cell_type": "code",
   "execution_count": 21,
   "id": "ae9e01f3-5c65-489a-b6bf-4da7d2cd6213",
   "metadata": {},
   "outputs": [
    {
     "data": {
      "application/vnd.plotly.v1+json": {
       "config": {
        "plotlyServerURL": "https://plot.ly"
       },
       "data": [
        {
         "hovertemplate": "Star type=Red Dwarf<br>Absolute magnitude(Mv)=%{x}<br>Apparent Magnitude (m)=%{y}<extra></extra>",
         "legendgroup": "Red Dwarf",
         "marker": {
          "color": "#636efa",
          "symbol": "circle"
         },
         "mode": "markers",
         "name": "Red Dwarf",
         "orientation": "v",
         "showlegend": true,
         "type": "scatter",
         "x": [
          16.12,
          16.6,
          18.7,
          16.65,
          20.06,
          16.98,
          17.4,
          17.45,
          16.23,
          16.94,
          16.09,
          16.96,
          18.89,
          17.13,
          18.34,
          16.45,
          17.39,
          19.43,
          17.16,
          19.94,
          20.02,
          16.92,
          17.12,
          16.88,
          19.56,
          18.09,
          16.21,
          18.39,
          17.56,
          17.34,
          17.08,
          17.45,
          16.67,
          19.45,
          16.35
         ],
         "xaxis": "x",
         "y": [
          14.989221916516607,
          14.606542871928989,
          17.013105864575472,
          14.420196858551524,
          19.283354158128137,
          15.0695993235615,
          14.368627791476923,
          16.698176682498875,
          15.032071002016837,
          14.35768849683833,
          14.151294498864026,
          14.778947160464831,
          16.463372369161284,
          17.28629871985472,
          16.341945676641476,
          13.054400293545456,
          15.27890700082057,
          16.956247290399936,
          16.522904330147203,
          18.531032942093624,
          19.70042822817181,
          14.507971830763411,
          14.2308828330992,
          14.087351960677529,
          17.139554953131572,
          15.31970201192355,
          13.525557668121602,
          16.592984303068146,
          16.95643870199033,
          14.848032539578714,
          15.319902272517222,
          14.422651359669931,
          14.021386921818296,
          17.890570794567775,
          13.196445564810134
         ],
         "yaxis": "y"
        },
        {
         "hovertemplate": "Star type=Brown Dwarf<br>Absolute magnitude(Mv)=%{x}<br>Apparent Magnitude (m)=%{y}<extra></extra>",
         "legendgroup": "Brown Dwarf",
         "marker": {
          "color": "#EF553B",
          "symbol": "circle"
         },
         "mode": "markers",
         "name": "Brown Dwarf",
         "orientation": "v",
         "showlegend": true,
         "type": "scatter",
         "x": [
          10.69,
          11.79,
          13.21,
          10.48,
          11.782,
          14.79,
          10.8,
          13.53,
          12.3,
          10.12,
          13.2,
          11.94,
          10.89,
          11.76,
          13.46,
          11.87,
          12.81,
          13.98,
          10.87,
          10.34,
          11.17,
          13.12,
          14.23,
          14.75,
          11.43,
          14.26,
          12.23,
          14.33,
          11.47,
          10.73,
          13.45,
          12.854,
          12.43,
          13.667,
          14.12,
          14.94,
          12.78,
          14.776,
          10.73,
          13.21,
          10.34
         ],
         "xaxis": "x",
         "y": [
          7.951560487132134,
          11.948806238915449,
          10.877379261405714,
          9.823015961813327,
          9.636485093505764,
          12.81426194033472,
          8.448546937880144,
          10.399418195945222,
          9.77940765121545,
          6.968038563707635,
          11.193923609858375,
          9.5779690719974,
          8.473879805777297,
          10.58792227647402,
          11.851813332841797,
          9.59802460836371,
          9.61983629458297,
          11.65219195256928,
          8.476240451298604,
          7.920592921197193,
          8.212338255855647,
          10.47900493792054,
          11.83839935478582,
          12.223086365924113,
          8.54848569415453,
          15.300170073676323,
          9.58623910712486,
          14.365807284396425,
          9.208868670109556,
          8.17514638970572,
          10.796495366296938,
          12.661932348016183,
          11.489246403730125,
          12.968061219828511,
          11.270850967204318,
          14.202629913315056,
          10.1350771004514,
          12.375979713636449,
          10.147131208778308,
          10.505117692610543,
          8.829508224872482
         ],
         "yaxis": "y"
        },
        {
         "hovertemplate": "Star type=White Dwarf<br>Absolute magnitude(Mv)=%{x}<br>Apparent Magnitude (m)=%{y}<extra></extra>",
         "legendgroup": "White Dwarf",
         "marker": {
          "color": "#00cc96",
          "symbol": "circle"
         },
         "mode": "markers",
         "name": "White Dwarf",
         "orientation": "v",
         "showlegend": true,
         "type": "scatter",
         "x": [
          10.58,
          14.02,
          14.23,
          14.5,
          12.23,
          14.2,
          14.47,
          12.59,
          14.08,
          14.09,
          12.02,
          13.78,
          12.45,
          12.17,
          13.98,
          11.19,
          12.97,
          11.34,
          13.67,
          11.52,
          12.78,
          11.38,
          14.87,
          12.83,
          12.89,
          14.81,
          11.23,
          12.87,
          11.92,
          12.23,
          12.9,
          11.22,
          11.34,
          10.18,
          11.66,
          11.62,
          11.22,
          11.34
         ],
         "xaxis": "x",
         "y": [
          9.412021838315772,
          12.66061134205476,
          11.892165471305614,
          11.734030304924442,
          8.782361436622892,
          12.508910666162455,
          12.390648150378562,
          9.649322247388213,
          11.155862856010533,
          10.704647246263573,
          10.923731326003647,
          11.97588438220752,
          9.834184632879255,
          10.152757639909897,
          11.030383639033872,
          8.93966248395807,
          11.070695180335026,
          8.35101263260906,
          12.275055960164504,
          8.797490471804842,
          11.341340313044762,
          9.011396555380776,
          12.555871392078558,
          11.391665603766784,
          10.61276000944325,
          12.019427413499551,
          11.470847766956638,
          10.684705658717837,
          9.56844336106711,
          11.002820886806724,
          11.416497519483489,
          9.316189106724334,
          9.491869004484483,
          7.974151622002828,
          9.605958887798904,
          9.50804784950706,
          8.63945640486801,
          8.35951690583273
         ],
         "yaxis": "y"
        },
        {
         "hovertemplate": "Star type=Main Sequence<br>Absolute magnitude(Mv)=%{x}<br>Apparent Magnitude (m)=%{y}<extra></extra>",
         "legendgroup": "Main Sequence",
         "marker": {
          "color": "#ab63fa",
          "symbol": "circle"
         },
         "mode": "markers",
         "name": "Main Sequence",
         "orientation": "v",
         "showlegend": true,
         "type": "scatter",
         "x": [
          -4.2,
          -1.97,
          0.16,
          5.05,
          2.42,
          2.41,
          2.93,
          4.46,
          5.03,
          5.49,
          6.506,
          6.228,
          1.45,
          -2.3,
          4.68,
          2.44,
          0.02,
          -4.4,
          -4.01,
          0.12,
          -3.32,
          -3.98,
          -4.09,
          -3.8,
          -3.4,
          -1.38,
          -4.56,
          -3.67,
          0.013,
          -0.12,
          -2.55,
          -4.57,
          -4.36,
          1.236,
          -3.08,
          -2.64,
          -0.98,
          0.12,
          -2.55,
          -4.56
         ],
         "xaxis": "x",
         "y": [
          -5.288426046580406,
          -4.585156012755445,
          -2.188814926560456,
          2.5749097999182364,
          0.2268290781136963,
          1.4844934072366731,
          0.6244804662353509,
          1.2877987959314687,
          3.5960218029772086,
          2.408060480990489,
          3.789469055940854,
          3.8009106063864415,
          -1.1669450643315038,
          -4.2426179773405135,
          1.8375429039791964,
          -0.5324196166531134,
          -0.6110136228999226,
          -6.93916774352658,
          -5.240291235161114,
          -1.4467763666344604,
          -5.815287987012709,
          -6.32075923080888,
          -5.184311941102712,
          -5.785252916638359,
          -5.907317748062695,
          -4.467561046255843,
          -6.540519916679512,
          -6.386301939266584,
          -3.7106702782808334,
          -2.790576410163995,
          -5.171222520171848,
          -7.6860620963895485,
          -6.034979743323569,
          -2.3044329163757498,
          -5.134026694198168,
          -4.872098306098311,
          -3.0577245214624647,
          -2.443426030651242,
          -5.577290539173966,
          -5.528051063219881
         ],
         "yaxis": "y"
        },
        {
         "hovertemplate": "Star type=SuperGiants<br>Absolute magnitude(Mv)=%{x}<br>Apparent Magnitude (m)=%{y}<extra></extra>",
         "legendgroup": "SuperGiants",
         "marker": {
          "color": "#FFA15A",
          "symbol": "circle"
         },
         "mode": "markers",
         "name": "SuperGiants",
         "orientation": "v",
         "showlegend": true,
         "type": "scatter",
         "x": [
          -6.93,
          -6.2,
          -6.02,
          -7.22,
          -6,
          -6.78,
          -5.24,
          -6.74,
          -6.1,
          -6.5,
          -6.23,
          -5.76,
          -6.89,
          -6.12,
          -5.83,
          -6.34,
          -6.24,
          -5.92,
          -6.245,
          -5.62,
          -6.63,
          -7.34,
          -7.22,
          -5.69,
          -5.83,
          -5.99,
          -6.27,
          -7.02,
          -6.98,
          -5.975,
          -6.35,
          -7.45,
          -7.262,
          -6.224,
          -5.905,
          -7.346,
          -7.34
         ],
         "xaxis": "x",
         "y": [
          -9.446963899137218,
          -8.942598086922136,
          -7.2321729765891485,
          -10.36752469604422,
          -7.612979751011366,
          -9.523372769363265,
          -7.076505398166397,
          -9.297573792614134,
          -7.67451181494612,
          -9.972262007637203,
          -8.154882154768206,
          -7.643669474895869,
          -9.402489141777725,
          -8.555022562039943,
          -8.324277397171635,
          -8.703310855948551,
          -8.905943341638896,
          -6.533340270983128,
          -7.177669725133333,
          -8.198433200240277,
          -8.004484453888693,
          -9.890760987090168,
          -9.993028605240829,
          -8.683281321784847,
          -7.967167017947432,
          -8.131802304567415,
          -5.946873704241376,
          -10.115799783220616,
          -9.158108772682818,
          -8.45132124660483,
          -8.731153780931475,
          -7.041039527980209,
          -9.008566097361548,
          -9.191864599183011,
          -8.358923790900477,
          -10.392099903495431,
          -9.506359810005502
         ],
         "yaxis": "y"
        },
        {
         "hovertemplate": "Star type=HyperGiants<br>Absolute magnitude(Mv)=%{x}<br>Apparent Magnitude (m)=%{y}<extra></extra>",
         "legendgroup": "HyperGiants",
         "marker": {
          "color": "#19d3f3",
          "symbol": "circle"
         },
         "mode": "markers",
         "name": "HyperGiants",
         "orientation": "v",
         "showlegend": true,
         "type": "scatter",
         "x": [
          -9.4,
          -7.63,
          -9.2,
          -8.05,
          -7.79,
          -11.75,
          -11.92,
          -11.28,
          -11.24,
          -11.36,
          -10.7,
          -10.81,
          -11.33,
          -11.03,
          -11.39,
          -10.25,
          -10.07,
          -10.7,
          -7.58,
          -8.18,
          -9.1,
          -7.89,
          -7.71,
          -8.3,
          -9.9,
          -7.84,
          -8.24,
          -9.29,
          -10.84,
          -7.67,
          -10.63,
          -10.73,
          -11.23,
          -7.8,
          -11.03,
          -7.89
         ],
         "xaxis": "x",
         "y": [
          -12.260508353162992,
          -8.975727478272752,
          -11.845370715804671,
          -9.244806240591208,
          -9.60087702388568,
          -14.309340892008176,
          -15.0863490869623,
          -13.723980852467824,
          -11.483439783755136,
          -12.961361456520724,
          -12.829540243224251,
          -14.38567950815654,
          -14.298675564719757,
          -13.957210930697082,
          -13.670303299668914,
          -12.120524477270806,
          -12.240723697519362,
          -11.906907317810225,
          -10.703369456221765,
          -8.268819248040645,
          -11.784594434600848,
          -9.095833356848908,
          -10.541110287986411,
          -10.206194429333646,
          -12.00634216209917,
          -11.373669181603164,
          -8.294840299047785,
          -11.31010469162902,
          -13.573019046527852,
          -10.84052886422338,
          -13.548282592704242,
          -12.620783094684406,
          -12.708767701525163,
          -7.668508365330918,
          -14.3116687519545,
          -11.23478462114426
         ],
         "yaxis": "y"
        }
       ],
       "layout": {
        "autosize": true,
        "dragmode": "zoom",
        "legend": {
         "title": {
          "text": "Star type"
         },
         "tracegroupgap": 0
        },
        "template": {
         "data": {
          "bar": [
           {
            "error_x": {
             "color": "#2a3f5f"
            },
            "error_y": {
             "color": "#2a3f5f"
            },
            "marker": {
             "line": {
              "color": "#E5ECF6",
              "width": 0.5
             },
             "pattern": {
              "fillmode": "overlay",
              "size": 10,
              "solidity": 0.2
             }
            },
            "type": "bar"
           }
          ],
          "barpolar": [
           {
            "marker": {
             "line": {
              "color": "#E5ECF6",
              "width": 0.5
             },
             "pattern": {
              "fillmode": "overlay",
              "size": 10,
              "solidity": 0.2
             }
            },
            "type": "barpolar"
           }
          ],
          "carpet": [
           {
            "aaxis": {
             "endlinecolor": "#2a3f5f",
             "gridcolor": "white",
             "linecolor": "white",
             "minorgridcolor": "white",
             "startlinecolor": "#2a3f5f"
            },
            "baxis": {
             "endlinecolor": "#2a3f5f",
             "gridcolor": "white",
             "linecolor": "white",
             "minorgridcolor": "white",
             "startlinecolor": "#2a3f5f"
            },
            "type": "carpet"
           }
          ],
          "choropleth": [
           {
            "colorbar": {
             "outlinewidth": 0,
             "ticks": ""
            },
            "type": "choropleth"
           }
          ],
          "contour": [
           {
            "colorbar": {
             "outlinewidth": 0,
             "ticks": ""
            },
            "colorscale": [
             [
              0,
              "#0d0887"
             ],
             [
              0.1111111111111111,
              "#46039f"
             ],
             [
              0.2222222222222222,
              "#7201a8"
             ],
             [
              0.3333333333333333,
              "#9c179e"
             ],
             [
              0.4444444444444444,
              "#bd3786"
             ],
             [
              0.5555555555555556,
              "#d8576b"
             ],
             [
              0.6666666666666666,
              "#ed7953"
             ],
             [
              0.7777777777777778,
              "#fb9f3a"
             ],
             [
              0.8888888888888888,
              "#fdca26"
             ],
             [
              1,
              "#f0f921"
             ]
            ],
            "type": "contour"
           }
          ],
          "contourcarpet": [
           {
            "colorbar": {
             "outlinewidth": 0,
             "ticks": ""
            },
            "type": "contourcarpet"
           }
          ],
          "heatmap": [
           {
            "colorbar": {
             "outlinewidth": 0,
             "ticks": ""
            },
            "colorscale": [
             [
              0,
              "#0d0887"
             ],
             [
              0.1111111111111111,
              "#46039f"
             ],
             [
              0.2222222222222222,
              "#7201a8"
             ],
             [
              0.3333333333333333,
              "#9c179e"
             ],
             [
              0.4444444444444444,
              "#bd3786"
             ],
             [
              0.5555555555555556,
              "#d8576b"
             ],
             [
              0.6666666666666666,
              "#ed7953"
             ],
             [
              0.7777777777777778,
              "#fb9f3a"
             ],
             [
              0.8888888888888888,
              "#fdca26"
             ],
             [
              1,
              "#f0f921"
             ]
            ],
            "type": "heatmap"
           }
          ],
          "heatmapgl": [
           {
            "colorbar": {
             "outlinewidth": 0,
             "ticks": ""
            },
            "colorscale": [
             [
              0,
              "#0d0887"
             ],
             [
              0.1111111111111111,
              "#46039f"
             ],
             [
              0.2222222222222222,
              "#7201a8"
             ],
             [
              0.3333333333333333,
              "#9c179e"
             ],
             [
              0.4444444444444444,
              "#bd3786"
             ],
             [
              0.5555555555555556,
              "#d8576b"
             ],
             [
              0.6666666666666666,
              "#ed7953"
             ],
             [
              0.7777777777777778,
              "#fb9f3a"
             ],
             [
              0.8888888888888888,
              "#fdca26"
             ],
             [
              1,
              "#f0f921"
             ]
            ],
            "type": "heatmapgl"
           }
          ],
          "histogram": [
           {
            "marker": {
             "pattern": {
              "fillmode": "overlay",
              "size": 10,
              "solidity": 0.2
             }
            },
            "type": "histogram"
           }
          ],
          "histogram2d": [
           {
            "colorbar": {
             "outlinewidth": 0,
             "ticks": ""
            },
            "colorscale": [
             [
              0,
              "#0d0887"
             ],
             [
              0.1111111111111111,
              "#46039f"
             ],
             [
              0.2222222222222222,
              "#7201a8"
             ],
             [
              0.3333333333333333,
              "#9c179e"
             ],
             [
              0.4444444444444444,
              "#bd3786"
             ],
             [
              0.5555555555555556,
              "#d8576b"
             ],
             [
              0.6666666666666666,
              "#ed7953"
             ],
             [
              0.7777777777777778,
              "#fb9f3a"
             ],
             [
              0.8888888888888888,
              "#fdca26"
             ],
             [
              1,
              "#f0f921"
             ]
            ],
            "type": "histogram2d"
           }
          ],
          "histogram2dcontour": [
           {
            "colorbar": {
             "outlinewidth": 0,
             "ticks": ""
            },
            "colorscale": [
             [
              0,
              "#0d0887"
             ],
             [
              0.1111111111111111,
              "#46039f"
             ],
             [
              0.2222222222222222,
              "#7201a8"
             ],
             [
              0.3333333333333333,
              "#9c179e"
             ],
             [
              0.4444444444444444,
              "#bd3786"
             ],
             [
              0.5555555555555556,
              "#d8576b"
             ],
             [
              0.6666666666666666,
              "#ed7953"
             ],
             [
              0.7777777777777778,
              "#fb9f3a"
             ],
             [
              0.8888888888888888,
              "#fdca26"
             ],
             [
              1,
              "#f0f921"
             ]
            ],
            "type": "histogram2dcontour"
           }
          ],
          "mesh3d": [
           {
            "colorbar": {
             "outlinewidth": 0,
             "ticks": ""
            },
            "type": "mesh3d"
           }
          ],
          "parcoords": [
           {
            "line": {
             "colorbar": {
              "outlinewidth": 0,
              "ticks": ""
             }
            },
            "type": "parcoords"
           }
          ],
          "pie": [
           {
            "automargin": true,
            "type": "pie"
           }
          ],
          "scatter": [
           {
            "fillpattern": {
             "fillmode": "overlay",
             "size": 10,
             "solidity": 0.2
            },
            "type": "scatter"
           }
          ],
          "scatter3d": [
           {
            "line": {
             "colorbar": {
              "outlinewidth": 0,
              "ticks": ""
             }
            },
            "marker": {
             "colorbar": {
              "outlinewidth": 0,
              "ticks": ""
             }
            },
            "type": "scatter3d"
           }
          ],
          "scattercarpet": [
           {
            "marker": {
             "colorbar": {
              "outlinewidth": 0,
              "ticks": ""
             }
            },
            "type": "scattercarpet"
           }
          ],
          "scattergeo": [
           {
            "marker": {
             "colorbar": {
              "outlinewidth": 0,
              "ticks": ""
             }
            },
            "type": "scattergeo"
           }
          ],
          "scattergl": [
           {
            "marker": {
             "colorbar": {
              "outlinewidth": 0,
              "ticks": ""
             }
            },
            "type": "scattergl"
           }
          ],
          "scattermapbox": [
           {
            "marker": {
             "colorbar": {
              "outlinewidth": 0,
              "ticks": ""
             }
            },
            "type": "scattermapbox"
           }
          ],
          "scatterpolar": [
           {
            "marker": {
             "colorbar": {
              "outlinewidth": 0,
              "ticks": ""
             }
            },
            "type": "scatterpolar"
           }
          ],
          "scatterpolargl": [
           {
            "marker": {
             "colorbar": {
              "outlinewidth": 0,
              "ticks": ""
             }
            },
            "type": "scatterpolargl"
           }
          ],
          "scatterternary": [
           {
            "marker": {
             "colorbar": {
              "outlinewidth": 0,
              "ticks": ""
             }
            },
            "type": "scatterternary"
           }
          ],
          "surface": [
           {
            "colorbar": {
             "outlinewidth": 0,
             "ticks": ""
            },
            "colorscale": [
             [
              0,
              "#0d0887"
             ],
             [
              0.1111111111111111,
              "#46039f"
             ],
             [
              0.2222222222222222,
              "#7201a8"
             ],
             [
              0.3333333333333333,
              "#9c179e"
             ],
             [
              0.4444444444444444,
              "#bd3786"
             ],
             [
              0.5555555555555556,
              "#d8576b"
             ],
             [
              0.6666666666666666,
              "#ed7953"
             ],
             [
              0.7777777777777778,
              "#fb9f3a"
             ],
             [
              0.8888888888888888,
              "#fdca26"
             ],
             [
              1,
              "#f0f921"
             ]
            ],
            "type": "surface"
           }
          ],
          "table": [
           {
            "cells": {
             "fill": {
              "color": "#EBF0F8"
             },
             "line": {
              "color": "white"
             }
            },
            "header": {
             "fill": {
              "color": "#C8D4E3"
             },
             "line": {
              "color": "white"
             }
            },
            "type": "table"
           }
          ]
         },
         "layout": {
          "annotationdefaults": {
           "arrowcolor": "#2a3f5f",
           "arrowhead": 0,
           "arrowwidth": 1
          },
          "autotypenumbers": "strict",
          "coloraxis": {
           "colorbar": {
            "outlinewidth": 0,
            "ticks": ""
           }
          },
          "colorscale": {
           "diverging": [
            [
             0,
             "#8e0152"
            ],
            [
             0.1,
             "#c51b7d"
            ],
            [
             0.2,
             "#de77ae"
            ],
            [
             0.3,
             "#f1b6da"
            ],
            [
             0.4,
             "#fde0ef"
            ],
            [
             0.5,
             "#f7f7f7"
            ],
            [
             0.6,
             "#e6f5d0"
            ],
            [
             0.7,
             "#b8e186"
            ],
            [
             0.8,
             "#7fbc41"
            ],
            [
             0.9,
             "#4d9221"
            ],
            [
             1,
             "#276419"
            ]
           ],
           "sequential": [
            [
             0,
             "#0d0887"
            ],
            [
             0.1111111111111111,
             "#46039f"
            ],
            [
             0.2222222222222222,
             "#7201a8"
            ],
            [
             0.3333333333333333,
             "#9c179e"
            ],
            [
             0.4444444444444444,
             "#bd3786"
            ],
            [
             0.5555555555555556,
             "#d8576b"
            ],
            [
             0.6666666666666666,
             "#ed7953"
            ],
            [
             0.7777777777777778,
             "#fb9f3a"
            ],
            [
             0.8888888888888888,
             "#fdca26"
            ],
            [
             1,
             "#f0f921"
            ]
           ],
           "sequentialminus": [
            [
             0,
             "#0d0887"
            ],
            [
             0.1111111111111111,
             "#46039f"
            ],
            [
             0.2222222222222222,
             "#7201a8"
            ],
            [
             0.3333333333333333,
             "#9c179e"
            ],
            [
             0.4444444444444444,
             "#bd3786"
            ],
            [
             0.5555555555555556,
             "#d8576b"
            ],
            [
             0.6666666666666666,
             "#ed7953"
            ],
            [
             0.7777777777777778,
             "#fb9f3a"
            ],
            [
             0.8888888888888888,
             "#fdca26"
            ],
            [
             1,
             "#f0f921"
            ]
           ]
          },
          "colorway": [
           "#636efa",
           "#EF553B",
           "#00cc96",
           "#ab63fa",
           "#FFA15A",
           "#19d3f3",
           "#FF6692",
           "#B6E880",
           "#FF97FF",
           "#FECB52"
          ],
          "font": {
           "color": "#2a3f5f"
          },
          "geo": {
           "bgcolor": "white",
           "lakecolor": "white",
           "landcolor": "#E5ECF6",
           "showlakes": true,
           "showland": true,
           "subunitcolor": "white"
          },
          "hoverlabel": {
           "align": "left"
          },
          "hovermode": "closest",
          "mapbox": {
           "style": "light"
          },
          "paper_bgcolor": "white",
          "plot_bgcolor": "#E5ECF6",
          "polar": {
           "angularaxis": {
            "gridcolor": "white",
            "linecolor": "white",
            "ticks": ""
           },
           "bgcolor": "#E5ECF6",
           "radialaxis": {
            "gridcolor": "white",
            "linecolor": "white",
            "ticks": ""
           }
          },
          "scene": {
           "xaxis": {
            "backgroundcolor": "#E5ECF6",
            "gridcolor": "white",
            "gridwidth": 2,
            "linecolor": "white",
            "showbackground": true,
            "ticks": "",
            "zerolinecolor": "white"
           },
           "yaxis": {
            "backgroundcolor": "#E5ECF6",
            "gridcolor": "white",
            "gridwidth": 2,
            "linecolor": "white",
            "showbackground": true,
            "ticks": "",
            "zerolinecolor": "white"
           },
           "zaxis": {
            "backgroundcolor": "#E5ECF6",
            "gridcolor": "white",
            "gridwidth": 2,
            "linecolor": "white",
            "showbackground": true,
            "ticks": "",
            "zerolinecolor": "white"
           }
          },
          "shapedefaults": {
           "line": {
            "color": "#2a3f5f"
           }
          },
          "ternary": {
           "aaxis": {
            "gridcolor": "white",
            "linecolor": "white",
            "ticks": ""
           },
           "baxis": {
            "gridcolor": "white",
            "linecolor": "white",
            "ticks": ""
           },
           "bgcolor": "#E5ECF6",
           "caxis": {
            "gridcolor": "white",
            "linecolor": "white",
            "ticks": ""
           }
          },
          "title": {
           "x": 0.05
          },
          "xaxis": {
           "automargin": true,
           "gridcolor": "white",
           "linecolor": "white",
           "ticks": "",
           "title": {
            "standoff": 15
           },
           "zerolinecolor": "white",
           "zerolinewidth": 2
          },
          "yaxis": {
           "automargin": true,
           "gridcolor": "white",
           "linecolor": "white",
           "ticks": "",
           "title": {
            "standoff": 15
           },
           "zerolinecolor": "white",
           "zerolinewidth": 2
          }
         }
        },
        "title": {
         "text": "Absolute magnitude(Mv) vs. Apparent Magnitude (m)"
        },
        "xaxis": {
         "anchor": "y",
         "autorange": true,
         "domain": [
          0,
          1
         ],
         "range": [
          -13.955655976676384,
          22.095655976676383
         ],
         "title": {
          "text": "Absolute magnitude(Mv)"
         },
         "type": "linear"
        },
        "yaxis": {
         "anchor": "x",
         "autorange": true,
         "domain": [
          0,
          1
         ],
         "range": [
          -17.957102554716087,
          22.571181695925596
         ],
         "title": {
          "text": "Apparent Magnitude (m)"
         },
         "type": "linear"
        }
       }
      },
      "image/png": "[encoded data removed]",
      "text/html": [
       "<div>                            <div id=\"48bde665-cb68-4d7e-b200-87ddce885ce4\" class=\"plotly-graph-div\" style=\"height:525px; width:100%;\"></div>            <script type=\"text/javascript\">                require([\"plotly\"], function(Plotly) {                    window.PLOTLYENV=window.PLOTLYENV || {};                                    if (document.getElementById(\"48bde665-cb68-4d7e-b200-87ddce885ce4\")) {                    Plotly.newPlot(                        \"48bde665-cb68-4d7e-b200-87ddce885ce4\",                        [{\"hovertemplate\":\"Star type=Red Dwarf\\u003cbr\\u003eAbsolute magnitude(Mv)=%{x}\\u003cbr\\u003eApparent Magnitude (m)=%{y}\\u003cextra\\u003e\\u003c\\u002fextra\\u003e\",\"legendgroup\":\"Red Dwarf\",\"marker\":{\"color\":\"#636efa\",\"symbol\":\"circle\"},\"mode\":\"markers\",\"name\":\"Red Dwarf\",\"orientation\":\"v\",\"showlegend\":true,\"x\":[16.12,16.6,18.7,16.65,20.06,16.98,17.4,17.45,16.23,16.94,16.09,16.96,18.89,17.13,18.34,16.45,17.39,19.43,17.16,19.94,20.02,16.92,17.12,16.88,19.56,18.09,16.21,18.39,17.56,17.34,17.08,17.45,16.67,19.45,16.35],\"xaxis\":\"x\",\"y\":[14.989221916516607,14.606542871928989,17.013105864575472,14.420196858551524,19.283354158128137,15.0695993235615,14.368627791476923,16.698176682498875,15.032071002016837,14.35768849683833,14.151294498864026,14.778947160464831,16.463372369161284,17.28629871985472,16.341945676641476,13.054400293545456,15.27890700082057,16.956247290399936,16.522904330147203,18.531032942093624,19.70042822817181,14.507971830763411,14.2308828330992,14.087351960677529,17.139554953131572,15.31970201192355,13.525557668121602,16.592984303068146,16.95643870199033,14.848032539578714,15.319902272517222,14.422651359669931,14.021386921818296,17.890570794567775,13.196445564810134],\"yaxis\":\"y\",\"type\":\"scatter\"},{\"hovertemplate\":\"Star type=Brown Dwarf\\u003cbr\\u003eAbsolute magnitude(Mv)=%{x}\\u003cbr\\u003eApparent Magnitude (m)=%{y}\\u003cextra\\u003e\\u003c\\u002fextra\\u003e\",\"legendgroup\":\"Brown Dwarf\",\"marker\":{\"color\":\"#EF553B\",\"symbol\":\"circle\"},\"mode\":\"markers\",\"name\":\"Brown Dwarf\",\"orientation\":\"v\",\"showlegend\":true,\"x\":[10.69,11.79,13.21,10.48,11.782,14.79,10.8,13.53,12.3,10.12,13.2,11.94,10.89,11.76,13.46,11.87,12.81,13.98,10.87,10.34,11.17,13.12,14.23,14.75,11.43,14.26,12.23,14.33,11.47,10.73,13.45,12.854,12.43,13.667,14.12,14.94,12.78,14.776,10.73,13.21,10.34],\"xaxis\":\"x\",\"y\":[7.951560487132134,11.948806238915449,10.877379261405714,9.823015961813327,9.636485093505764,12.81426194033472,8.448546937880144,10.399418195945222,9.77940765121545,6.968038563707635,11.193923609858375,9.5779690719974,8.473879805777297,10.58792227647402,11.851813332841797,9.59802460836371,9.61983629458297,11.65219195256928,8.476240451298604,7.920592921197193,8.212338255855647,10.47900493792054,11.83839935478582,12.223086365924113,8.54848569415453,15.300170073676323,9.58623910712486,14.365807284396425,9.208868670109556,8.17514638970572,10.796495366296938,12.661932348016183,11.489246403730125,12.968061219828511,11.270850967204318,14.202629913315056,10.1350771004514,12.375979713636449,10.147131208778308,10.505117692610543,8.829508224872482],\"yaxis\":\"y\",\"type\":\"scatter\"},{\"hovertemplate\":\"Star type=White Dwarf\\u003cbr\\u003eAbsolute magnitude(Mv)=%{x}\\u003cbr\\u003eApparent Magnitude (m)=%{y}\\u003cextra\\u003e\\u003c\\u002fextra\\u003e\",\"legendgroup\":\"White Dwarf\",\"marker\":{\"color\":\"#00cc96\",\"symbol\":\"circle\"},\"mode\":\"markers\",\"name\":\"White Dwarf\",\"orientation\":\"v\",\"showlegend\":true,\"x\":[10.58,14.02,14.23,14.5,12.23,14.2,14.47,12.59,14.08,14.09,12.02,13.78,12.45,12.17,13.98,11.19,12.97,11.34,13.67,11.52,12.78,11.38,14.87,12.83,12.89,14.81,11.23,12.87,11.92,12.23,12.9,11.22,11.34,10.18,11.66,11.62,11.22,11.34],\"xaxis\":\"x\",\"y\":[9.412021838315772,12.66061134205476,11.892165471305614,11.734030304924442,8.782361436622892,12.508910666162455,12.390648150378562,9.649322247388213,11.155862856010533,10.704647246263573,10.923731326003647,11.97588438220752,9.834184632879255,10.152757639909897,11.030383639033872,8.93966248395807,11.070695180335026,8.35101263260906,12.275055960164504,8.797490471804842,11.341340313044762,9.011396555380776,12.555871392078558,11.391665603766784,10.61276000944325,12.019427413499551,11.470847766956638,10.684705658717837,9.56844336106711,11.002820886806724,11.416497519483489,9.316189106724334,9.491869004484483,7.974151622002828,9.605958887798904,9.50804784950706,8.63945640486801,8.35951690583273],\"yaxis\":\"y\",\"type\":\"scatter\"},{\"hovertemplate\":\"Star type=Main Sequence\\u003cbr\\u003eAbsolute magnitude(Mv)=%{x}\\u003cbr\\u003eApparent Magnitude (m)=%{y}\\u003cextra\\u003e\\u003c\\u002fextra\\u003e\",\"legendgroup\":\"Main Sequence\",\"marker\":{\"color\":\"#ab63fa\",\"symbol\":\"circle\"},\"mode\":\"markers\",\"name\":\"Main Sequence\",\"orientation\":\"v\",\"showlegend\":true,\"x\":[-4.2,-1.97,0.16,5.05,2.42,2.41,2.93,4.46,5.03,5.49,6.506,6.228,1.45,-2.3,4.68,2.44,0.02,-4.4,-4.01,0.12,-3.32,-3.98,-4.09,-3.8,-3.4,-1.38,-4.56,-3.67,0.013,-0.12,-2.55,-4.57,-4.36,1.236,-3.08,-2.64,-0.98,0.12,-2.55,-4.56],\"xaxis\":\"x\",\"y\":[-5.288426046580406,-4.585156012755445,-2.188814926560456,2.5749097999182364,0.2268290781136963,1.4844934072366731,0.6244804662353509,1.2877987959314687,3.5960218029772086,2.408060480990489,3.789469055940854,3.8009106063864415,-1.1669450643315038,-4.2426179773405135,1.8375429039791964,-0.5324196166531134,-0.6110136228999226,-6.93916774352658,-5.240291235161114,-1.4467763666344604,-5.815287987012709,-6.32075923080888,-5.184311941102712,-5.785252916638359,-5.907317748062695,-4.467561046255843,-6.540519916679512,-6.386301939266584,-3.7106702782808334,-2.790576410163995,-5.171222520171848,-7.6860620963895485,-6.034979743323569,-2.3044329163757498,-5.134026694198168,-4.872098306098311,-3.0577245214624647,-2.443426030651242,-5.577290539173966,-5.528051063219881],\"yaxis\":\"y\",\"type\":\"scatter\"},{\"hovertemplate\":\"Star type=SuperGiants\\u003cbr\\u003eAbsolute magnitude(Mv)=%{x}\\u003cbr\\u003eApparent Magnitude (m)=%{y}\\u003cextra\\u003e\\u003c\\u002fextra\\u003e\",\"legendgroup\":\"SuperGiants\",\"marker\":{\"color\":\"#FFA15A\",\"symbol\":\"circle\"},\"mode\":\"markers\",\"name\":\"SuperGiants\",\"orientation\":\"v\",\"showlegend\":true,\"x\":[-6.93,-6.2,-6.02,-7.22,-6.0,-6.78,-5.24,-6.74,-6.1,-6.5,-6.23,-5.76,-6.89,-6.12,-5.83,-6.34,-6.24,-5.92,-6.245,-5.62,-6.63,-7.34,-7.22,-5.69,-5.83,-5.99,-6.27,-7.02,-6.98,-5.975,-6.35,-7.45,-7.262,-6.224,-5.905,-7.346,-7.34],\"xaxis\":\"x\",\"y\":[-9.446963899137218,-8.942598086922136,-7.2321729765891485,-10.36752469604422,-7.612979751011366,-9.523372769363265,-7.076505398166397,-9.297573792614134,-7.67451181494612,-9.972262007637203,-8.154882154768206,-7.643669474895869,-9.402489141777725,-8.555022562039943,-8.324277397171635,-8.703310855948551,-8.905943341638896,-6.533340270983128,-7.177669725133333,-8.198433200240277,-8.004484453888693,-9.890760987090168,-9.993028605240829,-8.683281321784847,-7.967167017947432,-8.131802304567415,-5.946873704241376,-10.115799783220616,-9.158108772682818,-8.45132124660483,-8.731153780931475,-7.041039527980209,-9.008566097361548,-9.191864599183011,-8.358923790900477,-10.392099903495431,-9.506359810005502],\"yaxis\":\"y\",\"type\":\"scatter\"},{\"hovertemplate\":\"Star type=HyperGiants\\u003cbr\\u003eAbsolute magnitude(Mv)=%{x}\\u003cbr\\u003eApparent Magnitude (m)=%{y}\\u003cextra\\u003e\\u003c\\u002fextra\\u003e\",\"legendgroup\":\"HyperGiants\",\"marker\":{\"color\":\"#19d3f3\",\"symbol\":\"circle\"},\"mode\":\"markers\",\"name\":\"HyperGiants\",\"orientation\":\"v\",\"showlegend\":true,\"x\":[-9.4,-7.63,-9.2,-8.05,-7.79,-11.75,-11.92,-11.28,-11.24,-11.36,-10.7,-10.81,-11.33,-11.03,-11.39,-10.25,-10.07,-10.7,-7.58,-8.18,-9.1,-7.89,-7.71,-8.3,-9.9,-7.84,-8.24,-9.29,-10.84,-7.67,-10.63,-10.73,-11.23,-7.8,-11.03,-7.89],\"xaxis\":\"x\",\"y\":[-12.260508353162992,-8.975727478272752,-11.845370715804671,-9.244806240591208,-9.60087702388568,-14.309340892008176,-15.0863490869623,-13.723980852467824,-11.483439783755136,-12.961361456520724,-12.829540243224251,-14.38567950815654,-14.298675564719757,-13.957210930697082,-13.670303299668914,-12.120524477270806,-12.240723697519362,-11.906907317810225,-10.703369456221765,-8.268819248040645,-11.784594434600848,-9.095833356848908,-10.541110287986411,-10.206194429333646,-12.00634216209917,-11.373669181603164,-8.294840299047785,-11.31010469162902,-13.573019046527852,-10.84052886422338,-13.548282592704242,-12.620783094684406,-12.708767701525163,-7.668508365330918,-14.3116687519545,-11.23478462114426],\"yaxis\":\"y\",\"type\":\"scatter\"}],                        {\"template\":{\"data\":{\"histogram2dcontour\":[{\"type\":\"histogram2dcontour\",\"colorbar\":{\"outlinewidth\":0,\"ticks\":\"\"},\"colorscale\":[[0.0,\"#0d0887\"],[0.1111111111111111,\"#46039f\"],[0.2222222222222222,\"#7201a8\"],[0.3333333333333333,\"#9c179e\"],[0.4444444444444444,\"#bd3786\"],[0.5555555555555556,\"#d8576b\"],[0.6666666666666666,\"#ed7953\"],[0.7777777777777778,\"#fb9f3a\"],[0.8888888888888888,\"#fdca26\"],[1.0,\"#f0f921\"]]}],\"choropleth\":[{\"type\":\"choropleth\",\"colorbar\":{\"outlinewidth\":0,\"ticks\":\"\"}}],\"histogram2d\":[{\"type\":\"histogram2d\",\"colorbar\":{\"outlinewidth\":0,\"ticks\":\"\"},\"colorscale\":[[0.0,\"#0d0887\"],[0.1111111111111111,\"#46039f\"],[0.2222222222222222,\"#7201a8\"],[0.3333333333333333,\"#9c179e\"],[0.4444444444444444,\"#bd3786\"],[0.5555555555555556,\"#d8576b\"],[0.6666666666666666,\"#ed7953\"],[0.7777777777777778,\"#fb9f3a\"],[0.8888888888888888,\"#fdca26\"],[1.0,\"#f0f921\"]]}],\"heatmap\":[{\"type\":\"heatmap\",\"colorbar\":{\"outlinewidth\":0,\"ticks\":\"\"},\"colorscale\":[[0.0,\"#0d0887\"],[0.1111111111111111,\"#46039f\"],[0.2222222222222222,\"#7201a8\"],[0.3333333333333333,\"#9c179e\"],[0.4444444444444444,\"#bd3786\"],[0.5555555555555556,\"#d8576b\"],[0.6666666666666666,\"#ed7953\"],[0.7777777777777778,\"#fb9f3a\"],[0.8888888888888888,\"#fdca26\"],[1.0,\"#f0f921\"]]}],\"heatmapgl\":[{\"type\":\"heatmapgl\",\"colorbar\":{\"outlinewidth\":0,\"ticks\":\"\"},\"colorscale\":[[0.0,\"#0d0887\"],[0.1111111111111111,\"#46039f\"],[0.2222222222222222,\"#7201a8\"],[0.3333333333333333,\"#9c179e\"],[0.4444444444444444,\"#bd3786\"],[0.5555555555555556,\"#d8576b\"],[0.6666666666666666,\"#ed7953\"],[0.7777777777777778,\"#fb9f3a\"],[0.8888888888888888,\"#fdca26\"],[1.0,\"#f0f921\"]]}],\"contourcarpet\":[{\"type\":\"contourcarpet\",\"colorbar\":{\"outlinewidth\":0,\"ticks\":\"\"}}],\"contour\":[{\"type\":\"contour\",\"colorbar\":{\"outlinewidth\":0,\"ticks\":\"\"},\"colorscale\":[[0.0,\"#0d0887\"],[0.1111111111111111,\"#46039f\"],[0.2222222222222222,\"#7201a8\"],[0.3333333333333333,\"#9c179e\"],[0.4444444444444444,\"#bd3786\"],[0.5555555555555556,\"#d8576b\"],[0.6666666666666666,\"#ed7953\"],[0.7777777777777778,\"#fb9f3a\"],[0.8888888888888888,\"#fdca26\"],[1.0,\"#f0f921\"]]}],\"surface\":[{\"type\":\"surface\",\"colorbar\":{\"outlinewidth\":0,\"ticks\":\"\"},\"colorscale\":[[0.0,\"#0d0887\"],[0.1111111111111111,\"#46039f\"],[0.2222222222222222,\"#7201a8\"],[0.3333333333333333,\"#9c179e\"],[0.4444444444444444,\"#bd3786\"],[0.5555555555555556,\"#d8576b\"],[0.6666666666666666,\"#ed7953\"],[0.7777777777777778,\"#fb9f3a\"],[0.8888888888888888,\"#fdca26\"],[1.0,\"#f0f921\"]]}],\"mesh3d\":[{\"type\":\"mesh3d\",\"colorbar\":{\"outlinewidth\":0,\"ticks\":\"\"}}],\"scatter\":[{\"fillpattern\":{\"fillmode\":\"overlay\",\"size\":10,\"solidity\":0.2},\"type\":\"scatter\"}],\"parcoords\":[{\"type\":\"parcoords\",\"line\":{\"colorbar\":{\"outlinewidth\":0,\"ticks\":\"\"}}}],\"scatterpolargl\":[{\"type\":\"scatterpolargl\",\"marker\":{\"colorbar\":{\"outlinewidth\":0,\"ticks\":\"\"}}}],\"bar\":[{\"error_x\":{\"color\":\"#2a3f5f\"},\"error_y\":{\"color\":\"#2a3f5f\"},\"marker\":{\"line\":{\"color\":\"#E5ECF6\",\"width\":0.5},\"pattern\":{\"fillmode\":\"overlay\",\"size\":10,\"solidity\":0.2}},\"type\":\"bar\"}],\"scattergeo\":[{\"type\":\"scattergeo\",\"marker\":{\"colorbar\":{\"outlinewidth\":0,\"ticks\":\"\"}}}],\"scatterpolar\":[{\"type\":\"scatterpolar\",\"marker\":{\"colorbar\":{\"outlinewidth\":0,\"ticks\":\"\"}}}],\"histogram\":[{\"marker\":{\"pattern\":{\"fillmode\":\"overlay\",\"size\":10,\"solidity\":0.2}},\"type\":\"histogram\"}],\"scattergl\":[{\"type\":\"scattergl\",\"marker\":{\"colorbar\":{\"outlinewidth\":0,\"ticks\":\"\"}}}],\"scatter3d\":[{\"type\":\"scatter3d\",\"line\":{\"colorbar\":{\"outlinewidth\":0,\"ticks\":\"\"}},\"marker\":{\"colorbar\":{\"outlinewidth\":0,\"ticks\":\"\"}}}],\"scattermapbox\":[{\"type\":\"scattermapbox\",\"marker\":{\"colorbar\":{\"outlinewidth\":0,\"ticks\":\"\"}}}],\"scatterternary\":[{\"type\":\"scatterternary\",\"marker\":{\"colorbar\":{\"outlinewidth\":0,\"ticks\":\"\"}}}],\"scattercarpet\":[{\"type\":\"scattercarpet\",\"marker\":{\"colorbar\":{\"outlinewidth\":0,\"ticks\":\"\"}}}],\"carpet\":[{\"aaxis\":{\"endlinecolor\":\"#2a3f5f\",\"gridcolor\":\"white\",\"linecolor\":\"white\",\"minorgridcolor\":\"white\",\"startlinecolor\":\"#2a3f5f\"},\"baxis\":{\"endlinecolor\":\"#2a3f5f\",\"gridcolor\":\"white\",\"linecolor\":\"white\",\"minorgridcolor\":\"white\",\"startlinecolor\":\"#2a3f5f\"},\"type\":\"carpet\"}],\"table\":[{\"cells\":{\"fill\":{\"color\":\"#EBF0F8\"},\"line\":{\"color\":\"white\"}},\"header\":{\"fill\":{\"color\":\"#C8D4E3\"},\"line\":{\"color\":\"white\"}},\"type\":\"table\"}],\"barpolar\":[{\"marker\":{\"line\":{\"color\":\"#E5ECF6\",\"width\":0.5},\"pattern\":{\"fillmode\":\"overlay\",\"size\":10,\"solidity\":0.2}},\"type\":\"barpolar\"}],\"pie\":[{\"automargin\":true,\"type\":\"pie\"}]},\"layout\":{\"autotypenumbers\":\"strict\",\"colorway\":[\"#636efa\",\"#EF553B\",\"#00cc96\",\"#ab63fa\",\"#FFA15A\",\"#19d3f3\",\"#FF6692\",\"#B6E880\",\"#FF97FF\",\"#FECB52\"],\"font\":{\"color\":\"#2a3f5f\"},\"hovermode\":\"closest\",\"hoverlabel\":{\"align\":\"left\"},\"paper_bgcolor\":\"white\",\"plot_bgcolor\":\"#E5ECF6\",\"polar\":{\"bgcolor\":\"#E5ECF6\",\"angularaxis\":{\"gridcolor\":\"white\",\"linecolor\":\"white\",\"ticks\":\"\"},\"radialaxis\":{\"gridcolor\":\"white\",\"linecolor\":\"white\",\"ticks\":\"\"}},\"ternary\":{\"bgcolor\":\"#E5ECF6\",\"aaxis\":{\"gridcolor\":\"white\",\"linecolor\":\"white\",\"ticks\":\"\"},\"baxis\":{\"gridcolor\":\"white\",\"linecolor\":\"white\",\"ticks\":\"\"},\"caxis\":{\"gridcolor\":\"white\",\"linecolor\":\"white\",\"ticks\":\"\"}},\"coloraxis\":{\"colorbar\":{\"outlinewidth\":0,\"ticks\":\"\"}},\"colorscale\":{\"sequential\":[[0.0,\"#0d0887\"],[0.1111111111111111,\"#46039f\"],[0.2222222222222222,\"#7201a8\"],[0.3333333333333333,\"#9c179e\"],[0.4444444444444444,\"#bd3786\"],[0.5555555555555556,\"#d8576b\"],[0.6666666666666666,\"#ed7953\"],[0.7777777777777778,\"#fb9f3a\"],[0.8888888888888888,\"#fdca26\"],[1.0,\"#f0f921\"]],\"sequentialminus\":[[0.0,\"#0d0887\"],[0.1111111111111111,\"#46039f\"],[0.2222222222222222,\"#7201a8\"],[0.3333333333333333,\"#9c179e\"],[0.4444444444444444,\"#bd3786\"],[0.5555555555555556,\"#d8576b\"],[0.6666666666666666,\"#ed7953\"],[0.7777777777777778,\"#fb9f3a\"],[0.8888888888888888,\"#fdca26\"],[1.0,\"#f0f921\"]],\"diverging\":[[0,\"#8e0152\"],[0.1,\"#c51b7d\"],[0.2,\"#de77ae\"],[0.3,\"#f1b6da\"],[0.4,\"#fde0ef\"],[0.5,\"#f7f7f7\"],[0.6,\"#e6f5d0\"],[0.7,\"#b8e186\"],[0.8,\"#7fbc41\"],[0.9,\"#4d9221\"],[1,\"#276419\"]]},\"xaxis\":{\"gridcolor\":\"white\",\"linecolor\":\"white\",\"ticks\":\"\",\"title\":{\"standoff\":15},\"zerolinecolor\":\"white\",\"automargin\":true,\"zerolinewidth\":2},\"yaxis\":{\"gridcolor\":\"white\",\"linecolor\":\"white\",\"ticks\":\"\",\"title\":{\"standoff\":15},\"zerolinecolor\":\"white\",\"automargin\":true,\"zerolinewidth\":2},\"scene\":{\"xaxis\":{\"backgroundcolor\":\"#E5ECF6\",\"gridcolor\":\"white\",\"linecolor\":\"white\",\"showbackground\":true,\"ticks\":\"\",\"zerolinecolor\":\"white\",\"gridwidth\":2},\"yaxis\":{\"backgroundcolor\":\"#E5ECF6\",\"gridcolor\":\"white\",\"linecolor\":\"white\",\"showbackground\":true,\"ticks\":\"\",\"zerolinecolor\":\"white\",\"gridwidth\":2},\"zaxis\":{\"backgroundcolor\":\"#E5ECF6\",\"gridcolor\":\"white\",\"linecolor\":\"white\",\"showbackground\":true,\"ticks\":\"\",\"zerolinecolor\":\"white\",\"gridwidth\":2}},\"shapedefaults\":{\"line\":{\"color\":\"#2a3f5f\"}},\"annotationdefaults\":{\"arrowcolor\":\"#2a3f5f\",\"arrowhead\":0,\"arrowwidth\":1},\"geo\":{\"bgcolor\":\"white\",\"landcolor\":\"#E5ECF6\",\"subunitcolor\":\"white\",\"showland\":true,\"showlakes\":true,\"lakecolor\":\"white\"},\"title\":{\"x\":0.05},\"mapbox\":{\"style\":\"light\"}}},\"xaxis\":{\"anchor\":\"y\",\"domain\":[0.0,1.0],\"title\":{\"text\":\"Absolute magnitude(Mv)\"}},\"yaxis\":{\"anchor\":\"x\",\"domain\":[0.0,1.0],\"title\":{\"text\":\"Apparent Magnitude (m)\"}},\"legend\":{\"title\":{\"text\":\"Star type\"},\"tracegroupgap\":0},\"title\":{\"text\":\"Absolute magnitude(Mv) vs. Apparent Magnitude (m)\"}},                        {\"responsive\": true}                    ).then(function(){\n",
       "                            \n",
       "var gd = document.getElementById('48bde665-cb68-4d7e-b200-87ddce885ce4');\n",
       "var x = new MutationObserver(function (mutations, observer) {{\n",
       "        var display = window.getComputedStyle(gd).display;\n",
       "        if (!display || display === 'none') {{\n",
       "            console.log([gd, 'removed!']);\n",
       "            Plotly.purge(gd);\n",
       "            observer.disconnect();\n",
       "        }}\n",
       "}});\n",
       "\n",
       "// Listen for the removal of the full notebook cells\n",
       "var notebookContainer = gd.closest('#notebook-container');\n",
       "if (notebookContainer) {{\n",
       "    x.observe(notebookContainer, {childList: true});\n",
       "}}\n",
       "\n",
       "// Listen for the clearing of the current output cell\n",
       "var outputEl = gd.closest('.output');\n",
       "if (outputEl) {{\n",
       "    x.observe(outputEl, {childList: true});\n",
       "}}\n",
       "\n",
       "                        })                };                });            </script>        </div>"
      ]
     },
     "metadata": {},
     "output_type": "display_data"
    }
   ],
   "source": [
    "import plotly.express as px\n",
    "\n",
    "# Scatter plot\n",
    "fig = px.scatter(df, x='YOUR CODE GOES HERE', y='YOUR CODE GOES HERE', \n",
    "                 title='YOUR CODE GOES HERE', color = 'YOUR CODE GOES HERE')\n",
    "fig.show()\n"
   ]
  },
  {
   "cell_type": "markdown",
   "id": "89f52af7-3ec7-45e0-8b8f-42db47e24b10",
   "metadata": {},
   "source": [
    "**[WRITE YOUR ANALYSIS HERE]**"
   ]
  }
 ],
 "metadata": {
  "kernelspec": {
   "display_name": "Python 3 (ipykernel)",
   "language": "python",
   "name": "python3"
  },
  "language_info": {
   "codemirror_mode": {
    "name": "ipython",
    "version": 3
   },
   "file_extension": ".py",
   "mimetype": "text/x-python",
   "name": "python",
   "nbconvert_exporter": "python",
   "pygments_lexer": "ipython3",
   "version": "3.11.5"
  }
 },
 "nbformat": 4,
 "nbformat_minor": 5
}
